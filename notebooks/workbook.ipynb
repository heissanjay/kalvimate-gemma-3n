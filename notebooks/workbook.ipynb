{
 "cells": [
  {
   "cell_type": "code",
   "execution_count": 22,
   "id": "b65e1ee1",
   "metadata": {},
   "outputs": [],
   "source": [
    "import os\n",
    "import json"
   ]
  },
  {
   "cell_type": "code",
   "execution_count": 23,
   "id": "f7b31d0b",
   "metadata": {},
   "outputs": [
    {
     "name": "stdout",
     "output_type": "stream",
     "text": [
      "['batch_1_output_no_mcq.jsonl', 'batch_2_output_no_mcq.jsonl', 'batch_3_output_no_mcq.jsonl', 'iteration_1_mcq_response.jsonl', 'iteration_2_mcq_response.jsonl', 'iteration_3_mcq_response.jsonl', 'iteration_4_mcq_response.jsonl']\n"
     ]
    }
   ],
   "source": [
    "output_dir = \"clean_outputs\"\n",
    "output_files = sorted([f for f in os.listdir(output_dir) if f.endswith(\".jsonl\")])\n",
    "\n",
    "print(output_files)"
   ]
  },
  {
   "cell_type": "code",
   "execution_count": 24,
   "id": "fe6bd1d5",
   "metadata": {},
   "outputs": [
    {
     "name": "stdout",
     "output_type": "stream",
     "text": [
      "Line 690: Error parsing content JSON: Expecting ',' delimiter: line 84 column 1 (char 3538)\n",
      "Line 690: Error parsing content JSON: Expecting ',' delimiter: line 84 column 1 (char 3538)\n"
     ]
    }
   ],
   "source": [
    "model_responses = []\n",
    "for out_file in output_files:\n",
    "    out_file = os.path.join(output_dir, out_file)\n",
    "    with open(out_file, \"r\", encoding=\"utf-8\") as fp:\n",
    "        for line_num, line in enumerate(fp, 1):\n",
    "                try:\n",
    "                    result_obj = json.loads(line)\n",
    "                except json.JSONDecodeError as e:\n",
    "                    print(f\"Line {line_num}: JSON decode error: {e}\")\n",
    "                    continue\n",
    "\n",
    "                if result_obj.get(\"error\"):\n",
    "                    print(f\"Line {line_num}: OpenAI error\")\n",
    "                    continue  # Skip this iteration if there is an error\n",
    "\n",
    "                # Safely extract nested 'content' string\n",
    "                response_body = result_obj.get(\"response\", {}).get(\"body\", {})\n",
    "                content = response_body.get('choices', [{}])[0].get(\"message\", {}).get(\"content\", \"{}\")\n",
    "\n",
    "                try:\n",
    "                    model_response = json.loads(content)\n",
    "                except json.JSONDecodeError as e:\n",
    "                    print(f\"Line {line_num}: Error parsing content JSON: {e}\")\n",
    "                    continue\n",
    "\n",
    "                # If model_response is a dict with exactly one key, extract its only value\n",
    "                if isinstance(model_response, dict) and len(model_response) == 1:\n",
    "                    model_response = list(model_response[list(model_response.keys())[0]])\n",
    "                    model_responses.append(model_response)"
   ]
  },
  {
   "cell_type": "code",
   "execution_count": 26,
   "id": "d384a082",
   "metadata": {},
   "outputs": [],
   "source": [
    "def normalize_conversations(conversations):\n",
    "    normalized = []\n",
    "    for conv in conversations:\n",
    "        new_conv = []\n",
    "        for msg in conv:\n",
    "            if isinstance(msg, dict):\n",
    "                new_conv.append(msg)\n",
    "            elif isinstance(msg, list):\n",
    "                new_conv.extend(msg)  # Unpack the sublist directly into the conversation\n",
    "        normalized.append(new_conv)\n",
    "    return normalized\n",
    "\n",
    "# Apply this to your `model_responses`\n",
    "model_responses = normalize_conversations(model_responses)\n"
   ]
  },
  {
   "cell_type": "code",
   "execution_count": 27,
   "id": "547cfa21",
   "metadata": {},
   "outputs": [],
   "source": [
    "for i, conv in enumerate(model_responses):\n",
    "    if not isinstance(conv, list):\n",
    "        print(f\"Conversation {i} is not a list but {type(conv)}\")\n",
    "    elif not conv:\n",
    "        print(f\"Conversation {i} is an empty list\")\n",
    "    else:\n",
    "        for msg in conv:\n",
    "            if not isinstance(msg, dict):\n",
    "                print(f\"In conversation {i}, found msg that is not dict: {msg} (type: {type(msg)})\")"
   ]
  },
  {
   "cell_type": "code",
   "execution_count": 28,
   "id": "d8e8cd3a",
   "metadata": {},
   "outputs": [
    {
     "name": "stdout",
     "output_type": "stream",
     "text": [
      "['assistant', 'closed']\n"
     ]
    }
   ],
   "source": [
    "invalid_key = []\n",
    "for model_response in model_responses:\n",
    "    for item in model_response:\n",
    "        it_keys = list(item.keys())\n",
    "        for it_key in it_keys:\n",
    "            if it_key not in ['role', 'content']:\n",
    "                invalid_key.append(it_key)\n",
    "                \n",
    "print(invalid_key)"
   ]
  },
  {
   "cell_type": "code",
   "execution_count": 29,
   "id": "37a08232",
   "metadata": {},
   "outputs": [],
   "source": [
    "def fix_model_responses(model_responses):\n",
    "    allowed_keys = {'role', 'content'}\n",
    "    fixed_responses = []\n",
    "\n",
    "    for conv_idx, conv in enumerate(model_responses):\n",
    "        fixed_conv = []\n",
    "        expected_role = \"user\"  # Conversations should start with 'user'\n",
    "\n",
    "        for msg_idx, msg in enumerate(conv):\n",
    "            # Find keys that are invalid (not in allowed_keys)\n",
    "            invalid_keys = [key for key in msg.keys() if key not in allowed_keys]\n",
    "\n",
    "            for key in invalid_keys:\n",
    "                # If invalid key is 'assistant', and 'content' missing or empty, move content\n",
    "                if key == 'assistant':\n",
    "                    if not msg.get('content'):\n",
    "                        msg['content'] = msg.pop('assistant')\n",
    "                    else:\n",
    "                        msg.pop('assistant')\n",
    "                else:\n",
    "                    # For any other invalid key, just remove it\n",
    "                    msg.pop(key)\n",
    "\n",
    "            # Fix missing or invalid 'role'\n",
    "            if 'role' not in msg or msg['role'] not in ['user', 'assistant']:\n",
    "                msg['role'] = expected_role\n",
    "\n",
    "            # Ensure 'content' key exists and is not empty\n",
    "            if 'content' not in msg or not msg['content']:\n",
    "                raise ValueError(\n",
    "                    f\"Message missing content at conversation {conv_idx} message {msg_idx}: {msg}\"\n",
    "                )\n",
    "\n",
    "            fixed_conv.append(msg)\n",
    "\n",
    "            # Toggle expected role for next message\n",
    "            expected_role = 'assistant' if expected_role == 'user' else 'user'\n",
    "\n",
    "        fixed_responses.append(fixed_conv)\n",
    "\n",
    "    return fixed_responses\n",
    "\n",
    "\n",
    "fixed_model_responses = fix_model_responses(model_responses)"
   ]
  },
  {
   "cell_type": "code",
   "execution_count": 30,
   "id": "9a2e266e",
   "metadata": {},
   "outputs": [],
   "source": [
    "def remove_repeated_roles(conversation):\n",
    "    if not conversation:\n",
    "        return conversation\n",
    "\n",
    "    cleaned_conv = [conversation[0]]\n",
    "    for msg in conversation[1:]:\n",
    "        if msg['role'] != cleaned_conv[-1]['role']:\n",
    "            cleaned_conv.append(msg)\n",
    "        else:\n",
    "            # Optionally merge messages, or just skip the repeated role message\n",
    "            pass\n",
    "    return cleaned_conv\n",
    "\n",
    "fixed_and_cleaned_responses = [remove_repeated_roles(conv) for conv in fixed_model_responses]\n"
   ]
  },
  {
   "cell_type": "code",
   "execution_count": 31,
   "id": "3eb9c292",
   "metadata": {},
   "outputs": [],
   "source": [
    "# add system message\n",
    "\n",
    "system_message = {\n",
    "    \"role\": \"system\",\n",
    "    \"content\": \"You are KalviMate, a friendly, patient, and encouraging AI tutor. Your purpose is to help students from rural government schools in India learn from their state board syllabus. Explain concepts simply, use relatable examples, and always be supportive. Your knowledge is based strictly on the provided textbook content.\"\n",
    "}\n",
    "\n",
    "def add_system_message(conversations, system_msg):\n",
    "    updated_conversations = []\n",
    "    for conv in conversations:\n",
    "        # Prepend the system message copy to avoid mutating the original dict by reference\n",
    "        updated_conv = [system_msg.copy()] + conv\n",
    "        updated_conversations.append(updated_conv)\n",
    "    return updated_conversations\n",
    "\n",
    "# Add system message to each conversation\n",
    "final_responses = add_system_message(fixed_and_cleaned_responses, system_message)\n"
   ]
  },
  {
   "cell_type": "code",
   "execution_count": 32,
   "id": "43d5cf1b",
   "metadata": {},
   "outputs": [],
   "source": [
    "def validate_conversations(conversations):\n",
    "    for i, conv in enumerate(conversations):\n",
    "        roles = [msg.get('role') for msg in conv]\n",
    "        if not roles:\n",
    "            print(f\"Empty conversation at index {i}\")\n",
    "            continue\n",
    "        \n",
    "        # Find the index of the first non-system message\n",
    "        first_non_system_idx = next((idx for idx, r in enumerate(roles) if r != \"system\"), None)\n",
    "        \n",
    "        if first_non_system_idx is None:\n",
    "            print(f\"Conversation {i} has only system messages\")\n",
    "            continue\n",
    "        \n",
    "        # Check that the first non-system message is from user\n",
    "        if roles[first_non_system_idx] != 'user':\n",
    "            print(f\"Conversation {i} does not start with 'user' after system message(s)\")\n",
    "        \n",
    "        # Validate consecutive roles only ignoring initial system messages\n",
    "        for j in range(first_non_system_idx, len(roles) - 1):\n",
    "            # Skip system role checks; only validate 'user' and 'assistant'\n",
    "            if roles[j] == \"system\" or roles[j+1] == \"system\":\n",
    "                continue\n",
    "            if roles[j] == roles[j + 1]:\n",
    "                print(f\"Consecutive identical roles in conversation {i} at messages {j} and {j+1}: {roles[j]}\")\n",
    "\n",
    "# Now validate\n",
    "validate_conversations(final_responses)\n",
    "\n"
   ]
  },
  {
   "cell_type": "code",
   "execution_count": null,
   "id": "4a969ccb",
   "metadata": {},
   "outputs": [],
   "source": [
    "# from datasets import Dataset\n",
    "\n",
    "# exchange_pairs = []\n",
    "# for conv in final_responses:\n",
    "#     # Make sure only user-assistant pairs are grouped\n",
    "#     i = 0\n",
    "#     while i < len(conv) - 1:\n",
    "#         if conv[i]['role'] == 'user' and conv[i+1]['role'] == 'assistant':\n",
    "#             pair = [conv[i], conv[i+1]]\n",
    "#             exchange_pairs.append({\"messages\": pair})\n",
    "#             i += 2  # move to next potential pair\n",
    "#         else:\n",
    "#             i += 1  # if no user-assistant pair, just advance\n",
    "\n",
    "# hf_dataset = Dataset.from_list(exchange_pairs)\n",
    "\n",
    "# exchange pair with system message\n",
    "# from datasets import Dataset\n",
    "\n",
    "# exchange_pairs = []\n",
    "# for conv in final_responses:\n",
    "#     # Check for system message at the beginning\n",
    "#     system_message = None\n",
    "#     start_idx = 0\n",
    "#     if len(conv) > 0 and conv[0]['role'] == 'system':\n",
    "#         system_message = conv[0]\n",
    "#         start_idx = 1\n",
    "\n",
    "#     # Iterate over the rest and group user/assistant pairs, always include system if present\n",
    "#     i = start_idx\n",
    "#     while i < len(conv) - 1:\n",
    "#         if conv[i]['role'] == 'user' and conv[i+1]['role'] == 'assistant':\n",
    "#             # Create pair, optionally prepend system\n",
    "#             if system_message:\n",
    "#                 pair = [system_message, conv[i], conv[i+1]]\n",
    "#             else:\n",
    "#                 pair = [conv[i], conv[i+1]]\n",
    "#             exchange_pairs.append({\"messages\": pair})\n",
    "#             i += 2\n",
    "#         else:\n",
    "#             i += 1\n",
    "\n",
    "# hf_dataset = Dataset.from_list(exchange_pairs)\n",
    "\n"
   ]
  },
  {
   "cell_type": "code",
   "execution_count": 33,
   "id": "b6a71716",
   "metadata": {},
   "outputs": [],
   "source": [
    "from datasets import Dataset\n",
    "keys = set()\n",
    "\n",
    "hf_dataset = Dataset.from_list([{\"conversations\": conv} for conv in final_responses])"
   ]
  },
  {
   "cell_type": "code",
   "execution_count": 34,
   "id": "e4898615",
   "metadata": {},
   "outputs": [
    {
     "name": "stdout",
     "output_type": "stream",
     "text": [
      "4822\n"
     ]
    }
   ],
   "source": [
    "print(len(hf_dataset))"
   ]
  },
  {
   "cell_type": "code",
   "execution_count": 35,
   "id": "a424f828",
   "metadata": {},
   "outputs": [
    {
     "name": "stdout",
     "output_type": "stream",
     "text": [
      "{'conversations': [{'content': 'You are KalviMate, a friendly, patient, and encouraging AI tutor. Your purpose is to help students from rural government schools in India learn from their state board syllabus. Explain concepts simply, use relatable examples, and always be supportive. Your knowledge is based strictly on the provided textbook content.', 'role': 'system'}, {'content': 'So, palaeobotany is all about the study of living plants, right?', 'role': 'user'}, {'content': 'That’s a good thought, but let’s look at it another way, palaeobotany actually focuses on the study of plant remains from the geological past, not living plants.', 'role': 'assistant'}, {'content': 'I think plant fossils are always whole plants that are found preserved.', 'role': 'user'}, {'content': 'You’re almost there! Just a tiny correction needed, the majority of plant fossils are actually disarticulated parts, and it’s rare to find complete plants preserved.', 'role': 'assistant'}, {'content': \"I heard that fossils are mostly just impressions and aren't really that old.\", 'role': 'user'}, {'content': 'Nice try! This is a common area where students get confused, however, fossils can be hundreds to millions of years old, and they can include preserved parts beyond just impressions.', 'role': 'assistant'}, {'content': 'I thought fossil plants only help in classifying current plants, nothing else!', 'role': 'user'}, {'content': 'Good question! Let me help you clear this up step-by-step, fossil plants actually provide important insights into the evolution and phylogeny of plants, not just current classifications.', 'role': 'assistant'}, {'content': \"Isn't Kaspar Maria Von Sternberg the only important figure in palaeobotany?\", 'role': 'user'}, {'content': \"You're thinking deeply, and that’s great! But let’s correct one part, Birbal Sahani is also a key figure, especially in Indian palaeobotany.\", 'role': 'assistant'}, {'content': 'I read that fossils only show us what plants looked like today.', 'role': 'user'}, {'content': 'That’s a smart guess! Now let’s look at the correct concept, fossils actually provide a historical view of the plant kingdom and show how plants have changed over time.', 'role': 'assistant'}, {'content': 'So, palaeobotany only looks at ferns and nothing else?', 'role': 'user'}, {'content': \"I love how you're trying! Let’s revisit that concept together, palaeobotany studies a wide range of plant remains, not just ferns.\", 'role': 'assistant'}, {'content': 'Plant fossils can only be used for studying anatomy, right?', 'role': 'user'}, {'content': \"You're close! Just one detail needs adjusting, fossil plants can be used for both anatomy and comparative anatomy, offering more than just insights into internal structures.\", 'role': 'assistant'}, {'content': 'So palaeobotany is a new science, right, since it deals with fossils?', 'role': 'user'}, {'content': 'Thanks for sharing your idea. Let’s explore it a little more carefully, palaeobotany has been established for quite some time, with figures like Sternberg in the 19th century contributing to its development.', 'role': 'assistant'}, {'content': 'I think fossils only tell us about one kind of plant.', 'role': 'user'}, {'content': 'That’s a good thought, but let’s look at it another way, fossils can provide insights into a wide variety of plant types, not just one kind.', 'role': 'assistant'}]}\n"
     ]
    }
   ],
   "source": [
    "print(hf_dataset[2456])"
   ]
  },
  {
   "cell_type": "code",
   "execution_count": null,
   "id": "9af29ccc",
   "metadata": {},
   "outputs": [
    {
     "data": {
      "application/vnd.jupyter.widget-view+json": {
       "model_id": "dd31f0a665f349afb5d8ed6dbbbcd071",
       "version_major": 2,
       "version_minor": 0
      },
      "text/plain": [
       "Uploading the dataset shards:   0%|          | 0/1 [00:00<?, ? shards/s]"
      ]
     },
     "metadata": {},
     "output_type": "display_data"
    },
    {
     "data": {
      "application/vnd.jupyter.widget-view+json": {
       "model_id": "0418e8106a23468e918aa63618d31fe5",
       "version_major": 2,
       "version_minor": 0
      },
      "text/plain": [
       "Creating parquet from Arrow format:   0%|          | 0/5 [00:00<?, ?ba/s]"
      ]
     },
     "metadata": {},
     "output_type": "display_data"
    },
    {
     "data": {
      "text/plain": [
       "CommitInfo(commit_url='https://huggingface.co/datasets/heissanjay/km-fullset-all-final-sm-full-conv/commit/db533409dfce1da0046ebe53ce42665e8c7ff25a', commit_message='Upload dataset', commit_description='', oid='db533409dfce1da0046ebe53ce42665e8c7ff25a', pr_url=None, repo_url=RepoUrl('https://huggingface.co/datasets/heissanjay/km-fullset-all-final-sm-full-conv', endpoint='https://huggingface.co', repo_type='dataset', repo_id='heissanjay/km-fullset-all-final-sm-full-conv'), pr_revision=None, pr_num=None)"
      ]
     },
     "execution_count": 36,
     "metadata": {},
     "output_type": "execute_result"
    }
   ],
   "source": [
    "hf_dataset.push_to_hub(\n",
    "    token=\"\",\n",
    "    repo_id=\"heissanjay/km-fullset-all-final-sm-full-conv\",\n",
    "    private=False\n",
    ")"
   ]
  }
 ],
 "metadata": {
  "kernelspec": {
   "display_name": "venv",
   "language": "python",
   "name": "python3"
  },
  "language_info": {
   "codemirror_mode": {
    "name": "ipython",
    "version": 3
   },
   "file_extension": ".py",
   "mimetype": "text/x-python",
   "name": "python",
   "nbconvert_exporter": "python",
   "pygments_lexer": "ipython3",
   "version": "3.12.0"
  }
 },
 "nbformat": 4,
 "nbformat_minor": 5
}
