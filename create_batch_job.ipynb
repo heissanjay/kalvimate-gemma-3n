{
 "cells": [
  {
   "cell_type": "code",
   "execution_count": 5,
   "id": "a5ace160",
   "metadata": {},
   "outputs": [],
   "source": [
    "\n",
    "# imports\n",
    "from openai import OpenAI\n",
    "import os\n",
    "import json"
   ]
  },
  {
   "cell_type": "code",
   "execution_count": null,
   "id": "501c095e",
   "metadata": {},
   "outputs": [],
   "source": [
    "client = OpenAI()\n",
    "batch_input_file_path = \"path/to/file.jsonl\"\n",
    "\n",
    "if not os.path.exists(batch_input_file_path):\n",
    "    raise FileNotFoundError(f\"Batch input file is not found at : {batch_input_file_path}\")"
   ]
  },
  {
   "cell_type": "code",
   "execution_count": null,
   "id": "7718e053",
   "metadata": {},
   "outputs": [],
   "source": [
    "# create batch input file object\n",
    "batch_input_file = client.files.create(\n",
    "    file=open(batch_input_file_path, \"rb\"), purpose=\"batch\"\n",
    ")\n",
    "\n",
    "# print batch file ID.\n",
    "print(batch_input_file.id)"
   ]
  },
  {
   "cell_type": "code",
   "execution_count": null,
   "id": "4da56ba5",
   "metadata": {},
   "outputs": [],
   "source": [
    "# create the job\n",
    "\n",
    "batch = client.batches.create(\n",
    "    input_file_id=batch_input_file.id,\n",
    "    endpoint=\"/v1/chat/completions\",\n",
    "    completion_window=\"24h\",\n",
    "    metadata={\"description\": \"bulk job\"},\n",
    ")\n",
    "\n",
    "print(batch.id)\n",
    "with open(\"batch_response.json\", \"w\") as fp:\n",
    "    json.dump(batch, fp, indent=2)"
   ]
  },
  {
   "cell_type": "code",
   "execution_count": null,
   "id": "249bd0bc",
   "metadata": {},
   "outputs": [],
   "source": [
    "import time\n",
    "\n",
    "while True:\n",
    "    batch_job = client.batches.retrieve(batch.id)\n",
    "    print(f\"Status: {batch_job.status}\")\n",
    "    if batch_job.status == \"completed\":\n",
    "        break\n",
    "    elif batch_job.status == \"failed\":\n",
    "        print(\"Batch failed\")\n",
    "        break\n",
    "    time.sleep(10)\n"
   ]
  },
  {
   "cell_type": "code",
   "execution_count": null,
   "id": "46f05888",
   "metadata": {},
   "outputs": [],
   "source": [
    "output_file_id = batch_job.output_file_id\n",
    "output_file = client.files.retrieve(output_file_id)\n",
    "content = client.files.download(output_file_id)\n",
    "with open(\"batch_output.jsonl\", \"wb\") as f:\n",
    "    f.write(content)"
   ]
  }
 ],
 "metadata": {
  "kernelspec": {
   "display_name": "venv",
   "language": "python",
   "name": "python3"
  },
  "language_info": {
   "codemirror_mode": {
    "name": "ipython",
    "version": 3
   },
   "file_extension": ".py",
   "mimetype": "text/x-python",
   "name": "python",
   "nbconvert_exporter": "python",
   "pygments_lexer": "ipython3",
   "version": "3.12.0"
  }
 },
 "nbformat": 4,
 "nbformat_minor": 5
}
